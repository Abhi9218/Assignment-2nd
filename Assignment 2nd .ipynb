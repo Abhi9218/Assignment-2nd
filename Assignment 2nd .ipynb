{
 "cells": [
  {
   "cell_type": "markdown",
   "id": "b60e5a25-20a3-4a70-9275-9b57db588591",
   "metadata": {},
   "source": [
    "Que(1). How do you comment code in Python? What are the different types of comments?|"
   ]
  },
  {
   "cell_type": "markdown",
   "id": "aa219477-b5d6-41d2-9d9a-702d534ff355",
   "metadata": {},
   "source": [
    "Ans= By using (#, hash)and (trple quote)  we cooment in python code.There are differnt type of comments in python code.\n",
    "\n",
    "    1st-Single line comment\n",
    "    2nd-Multi line comment\n",
    "    \n",
    "    Example--"
   ]
  },
  {
   "cell_type": "code",
   "execution_count": 2,
   "id": "93b23308-e569-4d17-a6e0-73ad023f9cab",
   "metadata": {},
   "outputs": [
    {
     "data": {
      "text/plain": [
       "' And this is known as \\n    multiline comment in python code'"
      ]
     },
     "execution_count": 2,
     "metadata": {},
     "output_type": "execute_result"
    }
   ],
   "source": [
    "#This is known as single line comment\n",
    "''' And this is known as \n",
    "    multiline comment in python code'''"
   ]
  },
  {
   "cell_type": "markdown",
   "id": "2c86d121-1b62-41fa-85c0-fb275cb5604d",
   "metadata": {},
   "source": [
    "Que(2). What are variables in Python? How do you declare and assign values to variables?"
   ]
  },
  {
   "cell_type": "markdown",
   "id": "43e18c67-a3a3-40aa-8b10-a68446be9760",
   "metadata": {},
   "source": [
    "Ans---Variable represent as storsge locations, whose value can be manuplated during program run.\n",
    "\n",
    "    Example--\n"
   ]
  },
  {
   "cell_type": "code",
   "execution_count": 4,
   "id": "007bcc56-f3ca-42dc-ad33-d007ebf28e2e",
   "metadata": {},
   "outputs": [],
   "source": [
    "Abhishek=6387858066\n",
    "B=\"this is known as variable\""
   ]
  },
  {
   "cell_type": "code",
   "execution_count": 9,
   "id": "76440bbe-f135-4ca8-a73b-b75720bb87b1",
   "metadata": {},
   "outputs": [
    {
     "name": "stdout",
     "output_type": "stream",
     "text": [
      "6387858066\n",
      "this is known as variable\n"
     ]
    }
   ],
   "source": [
    "print(Abhishek)\n",
    "print(B)"
   ]
  },
  {
   "cell_type": "markdown",
   "id": "e7cad21b-22d1-4cca-9b43-61ebc12e5ee2",
   "metadata": {},
   "source": [
    "Que(3) How do you convert one data type to another in Python?"
   ]
  },
  {
   "cell_type": "code",
   "execution_count": 34,
   "id": "c88230b9-1515-4587-9fdb-de81cb05685c",
   "metadata": {},
   "outputs": [
    {
     "data": {
      "text/plain": [
       "[1, 2, 3, 4, 'Abhishek prajapti', True]"
      ]
     },
     "execution_count": 34,
     "metadata": {},
     "output_type": "execute_result"
    }
   ],
   "source": [
    "t=(1,2,3,4,\"Abhishek prajapti\",True)\n",
    "list(tuple(t))"
   ]
  },
  {
   "cell_type": "markdown",
   "id": "6a0db6d3-648d-452f-855c-c59b9391388b",
   "metadata": {},
   "source": [
    "Que(4).How do you write and execute a Python script from the command line?"
   ]
  },
  {
   "cell_type": "markdown",
   "id": "088e5421-6254-447a-9078-c22f5d594a92",
   "metadata": {},
   "source": [
    "Ans=To write and execute a Python script from the command line in one line, you can use the following command:\n",
    "python -c \"print('Hello, World!')\"\n",
    "This command uses the -c flag in the Python interpreter to specify the code you want to execute directly from the command line."
   ]
  },
  {
   "cell_type": "markdown",
   "id": "24e83c05-2507-4f04-b085-6c9cc5c1a72f",
   "metadata": {},
   "source": [
    "Que(5) Given a list my_list = [1, 2, 3, 4, 5], write the code to slice the list and obtain the sub-list [2, 3]."
   ]
  },
  {
   "cell_type": "markdown",
   "id": "992bc693-3df2-4179-bfa9-bb67e5092d43",
   "metadata": {},
   "source": [
    "Ans--"
   ]
  },
  {
   "cell_type": "code",
   "execution_count": 11,
   "id": "9c43532c-7a8b-458b-9e6f-cb718ab5f034",
   "metadata": {},
   "outputs": [
    {
     "data": {
      "text/plain": [
       "[2, 3]"
      ]
     },
     "execution_count": 11,
     "metadata": {},
     "output_type": "execute_result"
    }
   ],
   "source": [
    "my_list=[1,2,3,4,5]\n",
    "my_list[1:-2]"
   ]
  },
  {
   "cell_type": "markdown",
   "id": "638f0b02-464b-430a-bfd4-df62e6535567",
   "metadata": {},
   "source": [
    "Que(6) What is a complex number in mathematics, and how is it represented in Python?"
   ]
  },
  {
   "cell_type": "markdown",
   "id": "34cad380-6830-4e87-a38e-ab014e1da6f2",
   "metadata": {},
   "source": [
    "Ans-The complex number in mathmatics represent in the form of (i) but In python the complex number reprasent only in (j).\n",
    "   \n",
    "    Example--"
   ]
  },
  {
   "cell_type": "raw",
   "id": "820b26f8-6e23-4126-b9c9-ca91635c5c03",
   "metadata": {},
   "source": [
    "Complex number in mathematics=(12+4i)\n",
    "Complex number in python=(12+4j)"
   ]
  },
  {
   "cell_type": "markdown",
   "id": "843b55f3-0a9a-41f0-86b0-8875e7e313f3",
   "metadata": {},
   "source": [
    "Que(7) What is the correct way to declare a variable named age and assign the value 25 to it?"
   ]
  },
  {
   "cell_type": "markdown",
   "id": "36d96522-0e80-4169-a092-5192d95e4295",
   "metadata": {},
   "source": [
    "Ans--"
   ]
  },
  {
   "cell_type": "code",
   "execution_count": null,
   "id": "0d53686f-4254-43fb-bb40-4e1b241c9e9a",
   "metadata": {},
   "outputs": [],
   "source": [
    "Age= int(25)"
   ]
  },
  {
   "cell_type": "markdown",
   "id": "91cd8ad3-c2ae-4c0a-b888-f4e9060b5881",
   "metadata": {},
   "source": [
    "Que(8) Declare a variable named price and assign the value 9.99 to it. What data type does this variable\n",
    "belong to?"
   ]
  },
  {
   "cell_type": "markdown",
   "id": "ce08d8ac-2c46-4cbc-a87e-ae1b7cc9cd38",
   "metadata": {},
   "source": [
    "Ans- "
   ]
  },
  {
   "cell_type": "code",
   "execution_count": 14,
   "id": "a58ec461-ef0f-4b87-aae6-81d81c43854d",
   "metadata": {},
   "outputs": [
    {
     "data": {
      "text/plain": [
       "float"
      ]
     },
     "execution_count": 14,
     "metadata": {},
     "output_type": "execute_result"
    }
   ],
   "source": [
    "price=9.99\n",
    "type(price)"
   ]
  },
  {
   "cell_type": "markdown",
   "id": "3169570e-8d8f-42e5-b69a-332d6964d304",
   "metadata": {},
   "source": [
    "Que(9) Create a variable named name and assign your full name to it as a string. How would you print the\n",
    "value of this variable?"
   ]
  },
  {
   "cell_type": "markdown",
   "id": "6c8234fa-4dd2-497d-ba57-6888499f4ed5",
   "metadata": {},
   "source": [
    "Ans--"
   ]
  },
  {
   "cell_type": "code",
   "execution_count": 16,
   "id": "ddf380dc-bc37-4000-9a8b-cb466952f807",
   "metadata": {},
   "outputs": [
    {
     "name": "stdout",
     "output_type": "stream",
     "text": [
      "Abhishek prajapati\n"
     ]
    }
   ],
   "source": [
    "AP=\"Abhishek prajapati\"\n",
    "print(AP)"
   ]
  },
  {
   "cell_type": "markdown",
   "id": "59472705-7e75-44f4-8dba-62626f9d11e8",
   "metadata": {},
   "source": [
    "Que(10).Given the string \"Hello, World!\", extract the substring \"World\"."
   ]
  },
  {
   "cell_type": "markdown",
   "id": "6b398d97-4784-44e0-9cb5-6fea4353a074",
   "metadata": {},
   "source": [
    "Ans-"
   ]
  },
  {
   "cell_type": "code",
   "execution_count": 23,
   "id": "c2620740-b67a-474d-8f9d-0f4a0adf1619",
   "metadata": {},
   "outputs": [
    {
     "data": {
      "text/plain": [
       "' world'"
      ]
     },
     "execution_count": 23,
     "metadata": {},
     "output_type": "execute_result"
    }
   ],
   "source": [
    "String=\"Hello, world!\"\n",
    "String[6:12]"
   ]
  },
  {
   "cell_type": "markdown",
   "id": "caf897da-fb62-4999-8bf8-167f21c5f593",
   "metadata": {},
   "source": [
    "Que(11).Create a variable named \"is_student\" and assign it a boolean value indicating whether you are\n",
    "currently a student or not."
   ]
  },
  {
   "cell_type": "code",
   "execution_count": null,
   "id": "d030f34b-d7b7-45cf-8718-3dc6c6135c42",
   "metadata": {},
   "outputs": [],
   "source": [
    "Ans--"
   ]
  },
  {
   "cell_type": "code",
   "execution_count": 25,
   "id": "a01fa491-a2d5-4ef1-91a0-88fe98582d46",
   "metadata": {},
   "outputs": [],
   "source": [
    "is_student=True"
   ]
  },
  {
   "cell_type": "code",
   "execution_count": null,
   "id": "4d04d9a6-0bb9-4823-823f-cd0ffc7148c3",
   "metadata": {},
   "outputs": [],
   "source": []
  }
 ],
 "metadata": {
  "kernelspec": {
   "display_name": "Python 3 (ipykernel)",
   "language": "python",
   "name": "python3"
  },
  "language_info": {
   "codemirror_mode": {
    "name": "ipython",
    "version": 3
   },
   "file_extension": ".py",
   "mimetype": "text/x-python",
   "name": "python",
   "nbconvert_exporter": "python",
   "pygments_lexer": "ipython3",
   "version": "3.10.8"
  }
 },
 "nbformat": 4,
 "nbformat_minor": 5
}
